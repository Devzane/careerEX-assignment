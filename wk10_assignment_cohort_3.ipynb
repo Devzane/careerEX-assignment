{
 "cells": [
  {
   "cell_type": "markdown",
   "id": "4d326f67-5e3f-484e-818f-ca2cb5c3d4d0",
   "metadata": {},
   "source": [
    "## **ASSIGNMENT - WEEK 10**"
   ]
  },
  {
   "cell_type": "markdown",
   "id": "842a2905-b40a-43e4-babb-ac02ca0c0c58",
   "metadata": {},
   "source": [
    "#### **INSTRUCTIONS**\n",
    "- When answering a question, indicate the question number and the question before your answer.\n",
    "- Use comments to explain what your are doing in your code.\n",
    "- Don't deviate from the questions asked.\n",
    "\n",
    "**READ THE QUESTIONS CAREFULLY BEFORE ANSWERING**"
   ]
  },
  {
   "cell_type": "code",
   "execution_count": 61,
   "id": "639cd7ce",
   "metadata": {
    "vscode": {
     "languageId": "plaintext"
    }
   },
   "outputs": [],
   "source": [
    "import sklearn\n",
    "import numpy as np\n",
    "import pandas as pd\n",
    "from sklearn.datasets import load_iris, fetch_california_housing\n",
    "from sklearn.model_selection import train_test_split\n",
    "from sklearn.model_selection import train_test_split\n",
    "from sklearn.linear_model import LogisticRegression\n",
    "from sklearn.metrics import accuracy_score, precision_score, recall_score, confusion_matrix\n",
    "import warnings"
   ]
  },
  {
   "cell_type": "markdown",
   "id": "4899bacd-34e9-4309-83a3-497c0a6d18e2",
   "metadata": {},
   "source": [
    "### **Question 1**\n",
    "Load the `load_iris` dataset from sklearn datasets, separate it into `features (X)` and `target (y)`\n",
    "\n",
    "Split your data into `train` and `test` data using a `test size of 20%` and a `random state of 20`."
   ]
  },
  {
   "cell_type": "code",
   "execution_count": 51,
   "id": "394d2cac",
   "metadata": {
    "vscode": {
     "languageId": "plaintext"
    }
   },
   "outputs": [],
   "source": [
    "#Loading the data \n",
    "\n",
    "iris_data = load_iris()\n",
    "\n",
    "# seperating the features and the target\n",
    "\n",
    "features = iris_data.data\n",
    "target = iris_data.target\n",
    "target_names = iris_data.target_names\n",
    "# splitting the data into train and test set with test size of 20% and a random state of 20\n",
    "\n",
    "X_train, X_test, Y_train, Y_test = train_test_split(features, target, test_size = 0.2, random_state = 20)"
   ]
  },
  {
   "cell_type": "code",
   "execution_count": 32,
   "id": "b79cc048-f981-43bf-8235-ff1d045c8cf0",
   "metadata": {},
   "outputs": [
    {
     "data": {
      "text/html": [
       "<div>\n",
       "<style scoped>\n",
       "    .dataframe tbody tr th:only-of-type {\n",
       "        vertical-align: middle;\n",
       "    }\n",
       "\n",
       "    .dataframe tbody tr th {\n",
       "        vertical-align: top;\n",
       "    }\n",
       "\n",
       "    .dataframe thead th {\n",
       "        text-align: right;\n",
       "    }\n",
       "</style>\n",
       "<table border=\"1\" class=\"dataframe\">\n",
       "  <thead>\n",
       "    <tr style=\"text-align: right;\">\n",
       "      <th></th>\n",
       "      <th>0</th>\n",
       "      <th>1</th>\n",
       "      <th>2</th>\n",
       "      <th>3</th>\n",
       "    </tr>\n",
       "  </thead>\n",
       "  <tbody>\n",
       "    <tr>\n",
       "      <th>0</th>\n",
       "      <td>5.7</td>\n",
       "      <td>3.0</td>\n",
       "      <td>4.2</td>\n",
       "      <td>1.2</td>\n",
       "    </tr>\n",
       "    <tr>\n",
       "      <th>1</th>\n",
       "      <td>5.6</td>\n",
       "      <td>3.0</td>\n",
       "      <td>4.1</td>\n",
       "      <td>1.3</td>\n",
       "    </tr>\n",
       "    <tr>\n",
       "      <th>2</th>\n",
       "      <td>5.1</td>\n",
       "      <td>3.5</td>\n",
       "      <td>1.4</td>\n",
       "      <td>0.2</td>\n",
       "    </tr>\n",
       "    <tr>\n",
       "      <th>3</th>\n",
       "      <td>5.1</td>\n",
       "      <td>3.8</td>\n",
       "      <td>1.6</td>\n",
       "      <td>0.2</td>\n",
       "    </tr>\n",
       "    <tr>\n",
       "      <th>4</th>\n",
       "      <td>4.8</td>\n",
       "      <td>3.4</td>\n",
       "      <td>1.6</td>\n",
       "      <td>0.2</td>\n",
       "    </tr>\n",
       "    <tr>\n",
       "      <th>...</th>\n",
       "      <td>...</td>\n",
       "      <td>...</td>\n",
       "      <td>...</td>\n",
       "      <td>...</td>\n",
       "    </tr>\n",
       "    <tr>\n",
       "      <th>115</th>\n",
       "      <td>4.6</td>\n",
       "      <td>3.6</td>\n",
       "      <td>1.0</td>\n",
       "      <td>0.2</td>\n",
       "    </tr>\n",
       "    <tr>\n",
       "      <th>116</th>\n",
       "      <td>6.6</td>\n",
       "      <td>3.0</td>\n",
       "      <td>4.4</td>\n",
       "      <td>1.4</td>\n",
       "    </tr>\n",
       "    <tr>\n",
       "      <th>117</th>\n",
       "      <td>6.4</td>\n",
       "      <td>3.1</td>\n",
       "      <td>5.5</td>\n",
       "      <td>1.8</td>\n",
       "    </tr>\n",
       "    <tr>\n",
       "      <th>118</th>\n",
       "      <td>5.7</td>\n",
       "      <td>4.4</td>\n",
       "      <td>1.5</td>\n",
       "      <td>0.4</td>\n",
       "    </tr>\n",
       "    <tr>\n",
       "      <th>119</th>\n",
       "      <td>5.7</td>\n",
       "      <td>2.8</td>\n",
       "      <td>4.1</td>\n",
       "      <td>1.3</td>\n",
       "    </tr>\n",
       "  </tbody>\n",
       "</table>\n",
       "<p>120 rows × 4 columns</p>\n",
       "</div>"
      ],
      "text/plain": [
       "       0    1    2    3\n",
       "0    5.7  3.0  4.2  1.2\n",
       "1    5.6  3.0  4.1  1.3\n",
       "2    5.1  3.5  1.4  0.2\n",
       "3    5.1  3.8  1.6  0.2\n",
       "4    4.8  3.4  1.6  0.2\n",
       "..   ...  ...  ...  ...\n",
       "115  4.6  3.6  1.0  0.2\n",
       "116  6.6  3.0  4.4  1.4\n",
       "117  6.4  3.1  5.5  1.8\n",
       "118  5.7  4.4  1.5  0.4\n",
       "119  5.7  2.8  4.1  1.3\n",
       "\n",
       "[120 rows x 4 columns]"
      ]
     },
     "execution_count": 32,
     "metadata": {},
     "output_type": "execute_result"
    }
   ],
   "source": [
    "X_train = pd.DataFrame(X_train)\n",
    "X_train"
   ]
  },
  {
   "cell_type": "code",
   "execution_count": 36,
   "id": "062117c2-b5b4-447a-bad1-7bfe3a846085",
   "metadata": {},
   "outputs": [
    {
     "data": {
      "text/html": [
       "<div>\n",
       "<style scoped>\n",
       "    .dataframe tbody tr th:only-of-type {\n",
       "        vertical-align: middle;\n",
       "    }\n",
       "\n",
       "    .dataframe tbody tr th {\n",
       "        vertical-align: top;\n",
       "    }\n",
       "\n",
       "    .dataframe thead th {\n",
       "        text-align: right;\n",
       "    }\n",
       "</style>\n",
       "<table border=\"1\" class=\"dataframe\">\n",
       "  <thead>\n",
       "    <tr style=\"text-align: right;\">\n",
       "      <th></th>\n",
       "      <th>0</th>\n",
       "    </tr>\n",
       "  </thead>\n",
       "  <tbody>\n",
       "    <tr>\n",
       "      <th>0</th>\n",
       "      <td>1</td>\n",
       "    </tr>\n",
       "    <tr>\n",
       "      <th>1</th>\n",
       "      <td>1</td>\n",
       "    </tr>\n",
       "    <tr>\n",
       "      <th>2</th>\n",
       "      <td>0</td>\n",
       "    </tr>\n",
       "    <tr>\n",
       "      <th>3</th>\n",
       "      <td>0</td>\n",
       "    </tr>\n",
       "    <tr>\n",
       "      <th>4</th>\n",
       "      <td>0</td>\n",
       "    </tr>\n",
       "    <tr>\n",
       "      <th>...</th>\n",
       "      <td>...</td>\n",
       "    </tr>\n",
       "    <tr>\n",
       "      <th>115</th>\n",
       "      <td>0</td>\n",
       "    </tr>\n",
       "    <tr>\n",
       "      <th>116</th>\n",
       "      <td>1</td>\n",
       "    </tr>\n",
       "    <tr>\n",
       "      <th>117</th>\n",
       "      <td>2</td>\n",
       "    </tr>\n",
       "    <tr>\n",
       "      <th>118</th>\n",
       "      <td>0</td>\n",
       "    </tr>\n",
       "    <tr>\n",
       "      <th>119</th>\n",
       "      <td>1</td>\n",
       "    </tr>\n",
       "  </tbody>\n",
       "</table>\n",
       "<p>120 rows × 1 columns</p>\n",
       "</div>"
      ],
      "text/plain": [
       "     0\n",
       "0    1\n",
       "1    1\n",
       "2    0\n",
       "3    0\n",
       "4    0\n",
       "..  ..\n",
       "115  0\n",
       "116  1\n",
       "117  2\n",
       "118  0\n",
       "119  1\n",
       "\n",
       "[120 rows x 1 columns]"
      ]
     },
     "execution_count": 36,
     "metadata": {},
     "output_type": "execute_result"
    }
   ],
   "source": [
    "Y_train = pd.DataFrame(Y_train)\n",
    "Y_train"
   ]
  },
  {
   "cell_type": "markdown",
   "id": "e2eb7779-1844-4b73-8350-24e54cd32a0d",
   "metadata": {},
   "source": [
    "### **Question 2**\n",
    "Train a LogisticRegression model on the iris dataset and evaluate the model using these metrics:\n",
    "- `Accuracy`\n",
    "- `Precision and recall`\n",
    "- `Confusion matrix`\n",
    "\n",
    "**NOTE**: Interpret the metrics values.\n",
    "\n",
    "Use a new `test size of 10%` and train another model using this test size. Was there any difference in the model performance or not?"
   ]
  },
  {
   "cell_type": "code",
   "execution_count": 55,
   "id": "d065c708-4fff-462e-a865-fbe5f2f7f95d",
   "metadata": {},
   "outputs": [
    {
     "name": "stdout",
     "output_type": "stream",
     "text": [
      "Accuracy (20% test size): 0.9333\n",
      "Precision (20% test size): 0.9436\n",
      "Recall (20% test size): 0.9333\n",
      "\n",
      "Confusion Matrix (20% test size):\n",
      " [[ 8  0  0]\n",
      " [ 0 11  0]\n",
      " [ 0  2  9]]\n",
      "\n",
      "--- Interpretation for 20% test size ---\n",
      "Accuracy: 0.9333 means that 93.33% of the predictions made by the model were correct across all classes.\n",
      "Precision: 0.9436 indicates that when the model predicts a class, it is correct about 94.36% of the time on average across all classes.\n",
      "Recall: 0.9333 indicates that the model correctly identifies 93.33% of all actual instances of each class on average.\n",
      "Confusion Matrix details:\n",
      "  - Row 'i' represents the true class 'i'.\n",
      "  - Column 'j' represents the predicted class 'j'.\n",
      "  - Diagonal elements show the number of correct predictions for each class.\n",
      "  - Off-diagonal elements show misclassifications.\n",
      "  For example, in the confusion matrix above, the model correctly predicted:\n",
      "    - 8 instances of 'setosa'\n",
      "    - 11 instances of 'versicolor'\n",
      "    - 9 instances of 'virginica'\n"
     ]
    }
   ],
   "source": [
    "# Training a logistic Regression on 20% test size\n",
    "\n",
    "model_20 = LogisticRegression(max_iter=200)\n",
    "model_20.fit(X_train, Y_train)\n",
    "\n",
    "# Making predictions on the test set\n",
    "y_pred_20 = model_20.predict(X_test)\n",
    "\n",
    "# Evaluating the model\n",
    "accuracy_20 = accuracy_score(Y_test, y_pred_20)\n",
    "precision_20 = precision_score(Y_test, y_pred_20, average='weighted')\n",
    "recall_20 = recall_score(Y_test, y_pred_20, average='weighted')\n",
    "conf_matrix_20 = confusion_matrix(Y_test, y_pred_20)\n",
    "\n",
    "print(f\"Accuracy (20% test size): {accuracy_20:.4f}\")\n",
    "print(f\"Precision (20% test size): {precision_20:.4f}\")\n",
    "print(f\"Recall (20% test size): {recall_20:.4f}\")\n",
    "print(\"\\nConfusion Matrix (20% test size):\\n\", conf_matrix_20)\n",
    "\n",
    "print(\"\\n--- Interpretation for 20% test size ---\")\n",
    "print(f\"Accuracy: {accuracy_20:.4f} means that {accuracy_20*100:.2f}% of the predictions made by the model were correct across all classes.\")\n",
    "print(f\"Precision: {precision_20:.4f} indicates that when the model predicts a class, it is correct about {precision_20*100:.2f}% of the time on average across all classes.\")\n",
    "print(f\"Recall: {recall_20:.4f} indicates that the model correctly identifies {recall_20*100:.2f}% of all actual instances of each class on average.\")\n",
    "print(\"Confusion Matrix details:\")\n",
    "print(\"  - Row 'i' represents the true class 'i'.\")\n",
    "print(\"  - Column 'j' represents the predicted class 'j'.\")\n",
    "print(\"  - Diagonal elements show the number of correct predictions for each class.\")\n",
    "print(\"  - Off-diagonal elements show misclassifications.\")\n",
    "print(f\"  For example, in the confusion matrix above, the model correctly predicted:\")\n",
    "for i, name in enumerate(target_names):\n",
    "    print(f\"    - {conf_matrix_20[i,i]} instances of '{name}'\")\n"
   ]
  },
  {
   "cell_type": "code",
   "execution_count": 57,
   "id": "29cd2e4f-70c6-4595-aac4-ec70a5eb3b07",
   "metadata": {},
   "outputs": [
    {
     "name": "stdout",
     "output_type": "stream",
     "text": [
      "Accuracy (10% test size): 0.9333\n",
      "Precision (10% test size): 0.9444\n",
      "Recall (10% test size): 0.9333\n",
      "\n",
      "Confusion Matrix (10% test size):\n",
      " [[5 0 0]\n",
      " [0 5 0]\n",
      " [0 1 4]]\n",
      "\n",
      "--- Interpretation for 10% test size ---\n",
      "Accuracy: 0.9333 means that 93.33% of the predictions made by the model were correct across all classes.\n",
      "Precision: 0.9444 indicates that when the model predicts a class, it is correct about 94.44% of the time on average across all classes.\n",
      "Recall: 0.9333 indicates that the model correctly identifies 93.33% of all actual instances of each class on average.\n",
      "Confusion Matrix details:\n",
      "  - Row 'i' represents the true class 'i'.\n",
      "  - Column 'j' represents the predicted class 'j'.\n",
      "  - Diagonal elements show the number of correct predictions for each class.\n",
      "  - Off-diagonal elements show misclassifications.\n",
      "  For example, in the confusion matrix above, the model correctly predicted:\n",
      "    - 5 instances of 'setosa'\n",
      "    - 5 instances of 'versicolor'\n",
      "    - 4 instances of 'virginica'\n"
     ]
    }
   ],
   "source": [
    "# Spliting data into training and test sets (10% test size)\n",
    "X_train_10, X_test_10, y_train_10, y_test_10 = train_test_split(features, target, test_size=0.10, random_state=20)\n",
    "\n",
    "# Training another Logistic Regression model\n",
    "model_10 = LogisticRegression(max_iter=200, solver='liblinear')\n",
    "model_10.fit(X_train_10, y_train_10)\n",
    "\n",
    "# Making predictions on the test set\n",
    "y_pred_10 = model_10.predict(X_test_10)\n",
    "\n",
    "# Evaluating the model\n",
    "accuracy_10 = accuracy_score(y_test_10, y_pred_10)\n",
    "precision_10 = precision_score(y_test_10, y_pred_10, average='weighted')\n",
    "recall_10 = recall_score(y_test_10, y_pred_10, average='weighted')\n",
    "conf_matrix_10 = confusion_matrix(y_test_10, y_pred_10)\n",
    "\n",
    "print(f\"Accuracy (10% test size): {accuracy_10:.4f}\")\n",
    "print(f\"Precision (10% test size): {precision_10:.4f}\")\n",
    "print(f\"Recall (10% test size): {recall_10:.4f}\")\n",
    "print(\"\\nConfusion Matrix (10% test size):\\n\", conf_matrix_10)\n",
    "\n",
    "print(\"\\n--- Interpretation for 10% test size ---\")\n",
    "print(f\"Accuracy: {accuracy_10:.4f} means that {accuracy_10*100:.2f}% of the predictions made by the model were correct across all classes.\")\n",
    "print(f\"Precision: {precision_10:.4f} indicates that when the model predicts a class, it is correct about {precision_10*100:.2f}% of the time on average across all classes.\")\n",
    "print(f\"Recall: {recall_10:.4f} indicates that the model correctly identifies {recall_10*100:.2f}% of all actual instances of each class on average.\")\n",
    "print(\"Confusion Matrix details:\")\n",
    "print(\"  - Row 'i' represents the true class 'i'.\")\n",
    "print(\"  - Column 'j' represents the predicted class 'j'.\")\n",
    "print(\"  - Diagonal elements show the number of correct predictions for each class.\")\n",
    "print(\"  - Off-diagonal elements show misclassifications.\")\n",
    "print(f\"  For example, in the confusion matrix above, the model correctly predicted:\")\n",
    "for i, name in enumerate(target_names):\n",
    "    print(f\"    - {conf_matrix_10[i,i]} instances of '{name}'\")\n"
   ]
  },
  {
   "cell_type": "code",
   "execution_count": 59,
   "id": "d1edfe03-2f91-450f-94c6-ec7c9fb47dd0",
   "metadata": {},
   "outputs": [
    {
     "name": "stdout",
     "output_type": "stream",
     "text": [
      "Difference in Accuracy: 0.0000\n",
      "Difference in Precision: -0.0009\n",
      "Difference in Recall: 0.0000\n",
      "The model performed slightly better with a 10% test size (higher accuracy, precision, recall).\n",
      "\n",
      "General Observations:\n",
      "A smaller test set (10% vs 20%) means the model trains on more data, which can sometimes lead to slightly better performance,\n",
      "but it also means the evaluation metrics are based on fewer samples, making the metrics themselves potentially less robust or more prone to variance.\n",
      "In this specific case, the differences appear to be minor, suggesting the model is quite robust to the exact split ratio within this range.\n"
     ]
    }
   ],
   "source": [
    "# Model comparism\n",
    "print(f\"Difference in Accuracy: {accuracy_20 - accuracy_10:.4f}\")\n",
    "print(f\"Difference in Precision: {precision_20 - precision_10:.4f}\")\n",
    "print(f\"Difference in Recall: {recall_20 - recall_10:.4f}\")\n",
    "\n",
    "if np.isclose(accuracy_20, accuracy_10) and np.isclose(precision_20, precision_10) and np.isclose(recall_20, recall_10):\n",
    "    print(\"There was no significant difference in model performance between the 20% and 10% test sizes.\")\n",
    "elif accuracy_20 > accuracy_10:\n",
    "    print(\"The model performed slightly better with a 20% test size (higher accuracy, precision, recall).\")\n",
    "else:\n",
    "    print(\"The model performed slightly better with a 10% test size (higher accuracy, precision, recall).\")\n",
    "\n",
    "print(\"\\nGeneral Observations:\")\n",
    "print(\"A smaller test set (10% vs 20%) means the model trains on more data, which can sometimes lead to slightly better performance,\")\n",
    "print(\"but it also means the evaluation metrics are based on fewer samples, making the metrics themselves potentially less robust or more prone to variance.\")\n",
    "print(\"In this specific case, the differences appear to be minor, suggesting the model is quite robust to the exact split ratio within this range.\")"
   ]
  },
  {
   "cell_type": "markdown",
   "id": "e95676ff-57ec-40fa-9fe1-faa81603f9f0",
   "metadata": {},
   "source": [
    "### **Question 3**\n",
    "From the sklearn datasets:\n",
    "- load the `fetch_california_housing` and separate it into the `features (X)` and `labels (y)`\n"
   ]
  },
  {
   "cell_type": "code",
   "execution_count": null,
   "id": "d435431e-1136-450a-86df-30a7fb58aa48",
   "metadata": {},
   "outputs": [],
   "source": []
  },
  {
   "cell_type": "markdown",
   "id": "b9196b4b-c26c-42aa-ba0a-5064e63c4c9c",
   "metadata": {},
   "source": [
    "### **Question 4**\n",
    "- Split the `X` and `y` into `train` and `test` datasets (using `random state of 42` and `test size of 30%`) and train a `Linear Regression model` on the train data."
   ]
  },
  {
   "cell_type": "markdown",
   "id": "5c610e81-66e7-42f6-b0bd-b8f94c807c9a",
   "metadata": {},
   "source": [
    "### **Question 5**\n",
    "- Use your model to make predictions on your test dataset and plot a `scatter plot` of the `orignial y` values and the `predicted y` values.  "
   ]
  }
 ],
 "metadata": {
  "kernelspec": {
   "display_name": "Python 3 (ipykernel)",
   "language": "python",
   "name": "python3"
  },
  "language_info": {
   "codemirror_mode": {
    "name": "ipython",
    "version": 3
   },
   "file_extension": ".py",
   "mimetype": "text/x-python",
   "name": "python",
   "nbconvert_exporter": "python",
   "pygments_lexer": "ipython3",
   "version": "3.12.7"
  }
 },
 "nbformat": 4,
 "nbformat_minor": 5
}
