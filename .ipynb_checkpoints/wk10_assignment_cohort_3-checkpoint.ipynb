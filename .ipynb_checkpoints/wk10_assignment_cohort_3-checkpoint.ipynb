{
 "cells": [
  {
   "cell_type": "markdown",
   "id": "4d326f67-5e3f-484e-818f-ca2cb5c3d4d0",
   "metadata": {},
   "source": [
    "## **ASSIGNMENT - WEEK 10**"
   ]
  },
  {
   "cell_type": "markdown",
   "id": "842a2905-b40a-43e4-babb-ac02ca0c0c58",
   "metadata": {},
   "source": [
    "#### **INSTRUCTIONS**\n",
    "- When answering a question, indicate the question number and the question before your answer.\n",
    "- Use comments to explain what your are doing in your code.\n",
    "- Don't deviate from the questions asked.\n",
    "\n",
    "**READ THE QUESTIONS CAREFULLY BEFORE ANSWERING**"
   ]
  },
  {
   "cell_type": "code",
   "execution_count": null,
   "id": "639cd7ce",
   "metadata": {
    "vscode": {
     "languageId": "plaintext"
    }
   },
   "outputs": [],
   "source": [
    "import sklearn \n"
   ]
  },
  {
   "cell_type": "markdown",
   "id": "4899bacd-34e9-4309-83a3-497c0a6d18e2",
   "metadata": {},
   "source": [
    "### **Question 1**\n",
    "Load the `load_iris` dataset from sklearn datasets, separate it into `features (X)` and `target (y)`\n",
    "\n",
    "Split your data into `train` and `test` data using a `test size of 20%` and a `random state of 20`."
   ]
  },
  {
   "cell_type": "code",
   "execution_count": null,
   "id": "394d2cac",
   "metadata": {
    "vscode": {
     "languageId": "plaintext"
    }
   },
   "outputs": [],
   "source": [
    "#Loading the data "
   ]
  },
  {
   "cell_type": "markdown",
   "id": "e2eb7779-1844-4b73-8350-24e54cd32a0d",
   "metadata": {},
   "source": [
    "### **Question 2**\n",
    "Train a LogisticRegression model on the iris dataset and evaluate the model using these metrics:\n",
    "- `Accuracy`\n",
    "- `Precision and recall`\n",
    "- `Confusion matrix`\n",
    "\n",
    "**NOTE**: Interpret the metrics values.\n",
    "\n",
    "Use a new `test size of 10%` and train another model using this test size. Was there any difference in the model performance or not?"
   ]
  },
  {
   "cell_type": "markdown",
   "id": "e95676ff-57ec-40fa-9fe1-faa81603f9f0",
   "metadata": {},
   "source": [
    "### **Question 3**\n",
    "From the sklearn datasets:\n",
    "- load the `fetch_california_housing` and separate it into the `features (X)` and `labels (y)`\n"
   ]
  },
  {
   "cell_type": "markdown",
   "id": "b9196b4b-c26c-42aa-ba0a-5064e63c4c9c",
   "metadata": {},
   "source": [
    "### **Question 4**\n",
    "- Split the `X` and `y` into `train` and `test` datasets (using `random state of 42` and `test size of 30%`) and train a `Linear Regression model` on the train data."
   ]
  },
  {
   "cell_type": "markdown",
   "id": "5c610e81-66e7-42f6-b0bd-b8f94c807c9a",
   "metadata": {},
   "source": [
    "### **Question 5**\n",
    "- Use your model to make predictions on your test dataset and plot a `scatter plot` of the `orignial y` values and the `predicted y` values.  "
   ]
  }
 ],
 "metadata": {
  "kernelspec": {
   "display_name": "Python 3 (ipykernel)",
   "language": "python",
   "name": "python3"
  },
  "language_info": {
   "codemirror_mode": {
    "name": "ipython",
    "version": 3
   },
   "file_extension": ".py",
   "mimetype": "text/x-python",
   "name": "python",
   "nbconvert_exporter": "python",
   "pygments_lexer": "ipython3",
   "version": "3.11.7"
  }
 },
 "nbformat": 4,
 "nbformat_minor": 5
}
