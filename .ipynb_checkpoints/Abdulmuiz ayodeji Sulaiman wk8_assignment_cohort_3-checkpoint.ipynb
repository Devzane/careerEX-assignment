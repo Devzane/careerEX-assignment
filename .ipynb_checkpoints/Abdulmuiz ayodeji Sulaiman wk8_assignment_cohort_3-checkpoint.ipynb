{
 "cells": [
  {
   "cell_type": "markdown",
   "id": "179adf8f-90e6-4482-b80b-74f3a807ff81",
   "metadata": {},
   "source": [
    "## **Assignment - Week 6**\n",
    "**Instructions:** \n",
    "- Answer each question on a separate cell, inidcating the question first in a markdown cell before giving the answer either in a markdown or code cell depending on the question.\n",
    "- Use comments in your code\n",
    "- Give titles to all your charts and give x and y labels where necessary\n",
    "- Use the ggplot style for your charts"
   ]
  },
  {
   "cell_type": "markdown",
   "id": "443fb4e1-8406-4630-8bd1-5ce8b110f1ae",
   "metadata": {},
   "source": [
    "You are provided with a retail transaction dataset contaning customer transaction data.\n",
    "\n",
    "You are expected to use the dataset to answer the following questions:\n",
    "1. Get the number of records and variables contained in the dataset and convert all columns to lower case.\n",
    "2. Is there any null value or duplicate record present?\n",
    "3. What is the new dataframe shape after dropping null and duplicate if present?\n",
    "4. Create a new dataframe containing just the numerical variables and access the relationship between the variables.\n",
    "5. You have a transaction date variable, convert it to a datetime variable and extract the month names and day names into two new columns\n",
    "6. Check for any outlier in the price column and remove any value that is greater than 300.\n",
    "7. Plot a scatter plot graph to access tha relationship between price and discount, give the graph a title and make the color green\n",
    "8. For the new months column you created, plot a line chart showing the total quantity for each month. Use a figure size of 8x5.\n",
    "9. Also for the days column you created, plot a bar chart showing the average price for each day\n",
    "10. Which of the product category has the highest quantity sold? represent it in a pie chart. Use a figure size of 7x7"
   ]
  }
 ],
 "metadata": {
  "kernelspec": {
   "display_name": "Python 3 (ipykernel)",
   "language": "python",
   "name": "python3"
  },
  "language_info": {
   "codemirror_mode": {
    "name": "ipython",
    "version": 3
   },
   "file_extension": ".py",
   "mimetype": "text/x-python",
   "name": "python",
   "nbconvert_exporter": "python",
   "pygments_lexer": "ipython3",
   "version": "3.11.7"
  }
 },
 "nbformat": 4,
 "nbformat_minor": 5
}
