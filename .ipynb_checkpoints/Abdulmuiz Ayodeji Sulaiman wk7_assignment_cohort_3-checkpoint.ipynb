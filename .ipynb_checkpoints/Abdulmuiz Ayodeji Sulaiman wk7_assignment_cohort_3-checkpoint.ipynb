{
 "cells": [
  {
   "cell_type": "markdown",
   "id": "5bd9d5df-dec9-45bb-bf13-ee4201cda286",
   "metadata": {},
   "source": [
    "## **Assignment- Week 5**\n",
    "**Instructions:** \n",
    "- Answer each question on a separate cell, either in a markdown or code cell depending on the question.\n",
    "- FOr e\n",
    "- Use comments in your code"
   ]
  },
  {
   "cell_type": "markdown",
   "id": "f7c576f4-0091-4b89-af0d-1869afef6185",
   "metadata": {},
   "source": [
    "## **Dataset Description**\n",
    "You are presented with a customer booking dataset that contains information about airline bookings, including the number of passengers, sales channel, trip type, purchase lead time, length of stay, flight hour, flight day, route, booking origin, and various flags indicating if the customer wanted extra baggage, preferred seat, or in-flight meals. The dataset also includes the total flight duration and a flag indicating if the booking was completed. \n",
    "\n",
    "**Using the data, provide the following answers:**\n",
    "1. What is the shape of our dataframe and explain what the shape means?\n",
    "2. How many columns have null values and how many duplicate records are in the dataset?\n",
    "3. Remove duplicates, rows with null values and the `purchase lead` and `booking origin` columns, what is the new shape of the dataframe?\n",
    "4. What are the different datatypes we have in the dataset?\n",
    "5. What are the different `trip types` available to customers and which one is mostly used?\n",
    "6. What is the most used `sales channel` for booking by customers?\n",
    "7. Which day had the highest `total number of flights`?\n",
    "8. How many customers wanted a `preferred seat` and in `flight meals`?\n",
    "9. Which of the `trip type` had the highest average `flight duration`?\n",
    "10. Which day of the week had the highest average `flight duration`?"
   ]
  },
  {
   "cell_type": "markdown",
   "id": "d81c836b-4821-4d09-bc9e-897b3ce5c181",
   "metadata": {},
   "source": [
    "## **Columns description**\n",
    "**Note:**\\\n",
    "1 = True/Yes\\\n",
    "0 = False/No\n",
    "- `num_passengers` = number of passengers travelling\n",
    "- `sales_channel` = sales channel booking was made on\n",
    "- `trip_type = trip` Type (Round Trip, One Way, Circle Trip)\n",
    "- `purchase_lead` = number of days between travel date and booking date\n",
    "- `length_of_stay` = number of days spent at destination\n",
    "- `flight_hour` = hour (time) of flight departure\n",
    "- `flight_day` = day of week of flight departure\n",
    "- `booking_origin` = country from where booking was made\n",
    "- `wants_extra_baggage` = if the customer wanted extra baggage in the booking\n",
    "- `wants_preferred_seat` = if the customer wanted a preferred seat in the booking\n",
    "- `wants_in_flight_meals` = if the customer wanted in-flight meals in the booking\n",
    "- `flight_duration` = total duration of flight (in hours)\n",
    "- `booking_complete` = flag indicating if the customer completed the booking"
   ]
  }
 ],
 "metadata": {
  "kernelspec": {
   "display_name": "Python 3 (ipykernel)",
   "language": "python",
   "name": "python3"
  },
  "language_info": {
   "codemirror_mode": {
    "name": "ipython",
    "version": 3
   },
   "file_extension": ".py",
   "mimetype": "text/x-python",
   "name": "python",
   "nbconvert_exporter": "python",
   "pygments_lexer": "ipython3",
   "version": "3.11.7"
  }
 },
 "nbformat": 4,
 "nbformat_minor": 5
}
