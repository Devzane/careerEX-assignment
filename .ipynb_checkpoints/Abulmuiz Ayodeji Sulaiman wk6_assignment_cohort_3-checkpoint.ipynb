{
 "cells": [
  {
   "cell_type": "markdown",
   "id": "7d519f6d-05bf-4c0b-aee0-15a4bbeccc7f",
   "metadata": {},
   "source": [
    "## **Assignment - Week 4**\n",
    "\n",
    "**Instructions:** \n",
    "- Answer each question on a separate cell, either in a markdown or code cell depending on the question.\n",
    "- Use comments in your code"
   ]
  },
  {
   "cell_type": "markdown",
   "id": "22558b07-8086-4cd5-adbb-3da534823509",
   "metadata": {},
   "source": [
    "## **Question 1**\n",
    "Create a Pandas Series from a list of temperatures: 22, 25, 30, 28, 35, 32, 33 and label the indexes as Monday, Tuesday, Wednesday, Thursday, Friday, Saturday, Sunday and specify the data type to be ```float32```.\\\n",
    "Display the series."
   ]
  },
  {
   "cell_type": "markdown",
   "id": "7c16e8ce-6089-47d1-a53b-60ac1bdd2764",
   "metadata": {},
   "source": [
    "## **Question 2**\n",
    "Construct a Pandas Series with  20 numbers from 100 to 150 and create an index from 1- 20 using the ```np.arange``` function. Specify the data type to be of ```float64```."
   ]
  },
  {
   "cell_type": "markdown",
   "id": "ee1906fe-df08-44cf-b569-5ced7a3daf85",
   "metadata": {},
   "source": [
    "## **Question 3**\n",
    "Create a pandas DataFrame with 10 rows with the following columns:\n",
    "- Name (random names with your name being the first)\n",
    "- State\n",
    "- Age\n",
    "- Weight (in kg)\n",
    "- Gender\n",
    "\n",
    "Display the DataFrame"
   ]
  },
  {
   "cell_type": "markdown",
   "id": "aed04794-c062-486b-a7f8-f7c18f8ef43b",
   "metadata": {},
   "source": [
    "## **Question 4**\n",
    "For the above DataFrame, write code to print its shape, columns, and the data type of each column."
   ]
  },
  {
   "cell_type": "markdown",
   "id": "279fa38d-00c6-4f56-9930-163bf6edd0dd",
   "metadata": {},
   "source": [
    "## **Question 5**\n",
    "\n",
    "Add a new column `occupation` to the DataFrame you created."
   ]
  },
  {
   "cell_type": "markdown",
   "id": "d41d1b9d-9631-41d6-87b7-b9701126424a",
   "metadata": {},
   "source": [
    "## **Question 6**\n",
    "\n",
    "Create two Series, `A` and `B`, containing the numbers 1 - 5 and 6 - 10 respectively. Compute the sum, difference ```(B-A)```, and product of `A` and `B`."
   ]
  },
  {
   "cell_type": "markdown",
   "id": "1550f173-6c17-4f35-a135-45a46bfad8c6",
   "metadata": {},
   "source": [
    "## **Question 7**\n",
    "\n",
    "Lists 10 attributes/methods of a Series and explain what they do."
   ]
  },
  {
   "cell_type": "markdown",
   "id": "a3111a0a-3eea-4d2b-b35d-c902b2e54e84",
   "metadata": {},
   "source": [
    "## **Question 8**\n",
    "\n",
    "Lists 10 attributes/methods of a DataFrame and explain what they do"
   ]
  },
  {
   "cell_type": "markdown",
   "id": "713374a5-1002-4e95-b928-1e0b2c84b40b",
   "metadata": {},
   "source": [
    "## **Question 9**\n",
    "\n",
    "Highlight 3 differences between a `Series` and `DataFrame`"
   ]
  },
  {
   "cell_type": "markdown",
   "id": "e09ea445-8721-40c4-b505-4e3d58a57084",
   "metadata": {},
   "source": [
    "## **Question 10**\n",
    "List two key points you learnt in week 6 classes"
   ]
  }
 ],
 "metadata": {
  "kernelspec": {
   "display_name": "Python 3 (ipykernel)",
   "language": "python",
   "name": "python3"
  },
  "language_info": {
   "codemirror_mode": {
    "name": "ipython",
    "version": 3
   },
   "file_extension": ".py",
   "mimetype": "text/x-python",
   "name": "python",
   "nbconvert_exporter": "python",
   "pygments_lexer": "ipython3",
   "version": "3.11.7"
  }
 },
 "nbformat": 4,
 "nbformat_minor": 5
}
