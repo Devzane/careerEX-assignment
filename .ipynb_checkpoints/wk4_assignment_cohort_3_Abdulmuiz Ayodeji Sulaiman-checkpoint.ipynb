{
 "cells": [
  {
   "cell_type": "markdown",
   "id": "3c9aa3f6-10aa-4c51-b141-76df9c406517",
   "metadata": {},
   "source": [
    "## **Assignment - Week 3**\n",
    "\n",
    "**Instructions:** \n",
    "- Answer each question on a separate cell, either in a markdown or code cell depending on the question.\n",
    "- Use comments in your code"
   ]
  },
  {
   "cell_type": "markdown",
   "id": "6887e37f-2cfe-4dae-b301-7a82daff602f",
   "metadata": {},
   "source": [
    "### **Question 1**\n",
    "\n",
    " Demonstrate how to create a 1-dimensional, 2-dimensional, and 3-dimensional numpy arrays using `np.array`. Use any suitable data for the arrays and display each. The 1 dimensional, 2 dimensional and 3 dimensional arrays you created should have shapes of ```(7,), (4, 4), and (3, 2, 3)``` respectively. Print out the shapes of each array after you have created them."
   ]
  },
  {
   "cell_type": "markdown",
   "id": "3545c440-f1db-448e-8c43-20c36078b615",
   "metadata": {},
   "source": [
    "### **Question 2**\n",
    "\n",
    "**2a.** Write a Python code to create two arrays using `np.zeros` and `np.ones` with a shape of (4, 5). Print both arrays.\\\n",
    "**2b.** Using the `np.arange` function, create an array from `10 - 36` \\\n",
    "**2c.** Generate a numpy array with `25` linearly spaced values ranging from `20 to 50` using `np.linspace`. Print the array."
   ]
  },
  {
   "cell_type": "markdown",
   "id": "3826afb2-38f6-4ffc-89b6-c9ee20202637",
   "metadata": {},
   "source": [
    "### **Question 3**\n",
    "\n",
    "Consider the numpy array below. Write a Python code to extract the sub-array containing the third to fifth elements.\n",
    "```python\n",
    "arr = np.array([23, 54, 32, 33, 56, 78, 77, 45, 33])\n",
    "```"
   ]
  },
  {
   "cell_type": "markdown",
   "id": "a6dc52e7-4df0-4964-8132-b0ae4499e10f",
   "metadata": {},
   "source": [
    "### **Question 4**\n",
    "\n",
    "Given the 2-dimensional numpy array below, demonstrate how to slice and obtain the third row and first and second column.\n",
    "\n",
    "```python\n",
    "arr_2d = np.array([[1, 2, 3], \n",
    "                  [4, 5, 6], \n",
    "                  [7, 8, 9],\n",
    "                  [4, 5, 3]])\n",
    "```"
   ]
  },
  {
   "cell_type": "markdown",
   "id": "182c701a-d189-4b4b-a79a-a4e7aaecbc53",
   "metadata": {},
   "source": [
    "### **Question 5**\n",
    "\n",
    "Given the 3d array below, answer the following questions:\\\n",
    "**5a.** What is the shape of the array and how many layers or blocks does the array have?\\\n",
    "**5b.** Slice out the second and last rows from the third block using array slicing.\n",
    "```python\n",
    "array_3d = np.array([\n",
    "    [[1, 2, 3], \n",
    "     [4, 5, 6], \n",
    "     [7, 8, 9], \n",
    "     [2, 3, 3]],\n",
    "    \n",
    "    [[13, 14, 15], \n",
    "     [16, 17, 18], \n",
    "     [19, 20, 21], \n",
    "     [22, 23, 24]],\n",
    "    \n",
    "    [[25, 26, 27], \n",
    "     [28, 29, 30], \n",
    "     [31, 32, 33], \n",
    "     [34, 35, 36]]])\n",
    "```"
   ]
  }
 ],
 "metadata": {
  "kernelspec": {
   "display_name": "Python 3 (ipykernel)",
   "language": "python",
   "name": "python3"
  },
  "language_info": {
   "codemirror_mode": {
    "name": "ipython",
    "version": 3
   },
   "file_extension": ".py",
   "mimetype": "text/x-python",
   "name": "python",
   "nbconvert_exporter": "python",
   "pygments_lexer": "ipython3",
   "version": "3.11.7"
  }
 },
 "nbformat": 4,
 "nbformat_minor": 5
}
