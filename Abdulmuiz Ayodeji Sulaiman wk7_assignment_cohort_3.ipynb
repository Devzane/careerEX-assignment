{
 "cells": [
  {
   "cell_type": "markdown",
   "id": "5bd9d5df-dec9-45bb-bf13-ee4201cda286",
   "metadata": {},
   "source": [
    "## **Assignment- Week 5**\n",
    "**Instructions:** \n",
    "- Answer each question on a separate cell, either in a markdown or code cell depending on the question.\n",
    "- FOr e\n",
    "- Use comments in your code"
   ]
  },
  {
   "cell_type": "markdown",
   "id": "f7c576f4-0091-4b89-af0d-1869afef6185",
   "metadata": {},
   "source": [
    "## **Dataset Description**\n",
    "You are presented with a customer booking dataset that contains information about airline bookings, including the number of passengers, sales channel, trip type, purchase lead time, length of stay, flight hour, flight day, route, booking origin, and various flags indicating if the customer wanted extra baggage, preferred seat, or in-flight meals. The dataset also includes the total flight duration and a flag indicating if the booking was completed. \n",
    "\n",
    "**Using the data, provide the following answers:**\n",
    "1. What is the shape of our dataframe and explain what the shape means?\n",
    "2. How many columns have null values and how many duplicate records are in the dataset?\n",
    "3. Remove duplicates, rows with null values and the `purchase lead` and `booking origin` columns, what is the new shape of the dataframe?\n",
    "4. What are the different datatypes we have in the dataset?\n",
    "5. What are the different `trip types` available to customers and which one is mostly used?\n",
    "6. What is the most used `sales channel` for booking by customers?\n",
    "7. Which day had the highest `total number of flights`?\n",
    "8. How many customers wanted a `preferred seat` and in `flight meals`?\n",
    "9. Which of the `trip type` had the highest average `flight duration`?\n",
    "10. Which day of the week had the highest average `flight duration`?"
   ]
  },
  {
   "cell_type": "markdown",
   "id": "d81c836b-4821-4d09-bc9e-897b3ce5c181",
   "metadata": {},
   "source": [
    "## **Columns description**\n",
    "**Note:**\\\n",
    "1 = True/Yes\\\n",
    "0 = False/No\n",
    "- `num_passengers` = number of passengers travelling\n",
    "- `sales_channel` = sales channel booking was made on\n",
    "- `trip_type = trip` Type (Round Trip, One Way, Circle Trip)\n",
    "- `purchase_lead` = number of days between travel date and booking date\n",
    "- `length_of_stay` = number of days spent at destination\n",
    "- `flight_hour` = hour (time) of flight departure\n",
    "- `flight_day` = day of week of flight departure\n",
    "- `booking_origin` = country from where booking was made\n",
    "- `wants_extra_baggage` = if the customer wanted extra baggage in the booking\n",
    "- `wants_preferred_seat` = if the customer wanted a preferred seat in the booking\n",
    "- `wants_in_flight_meals` = if the customer wanted in-flight meals in the booking\n",
    "- `flight_duration` = total duration of flight (in hours)\n",
    "- `booking_complete` = flag indicating if the customer completed the booking"
   ]
  },
  {
   "cell_type": "code",
   "execution_count": 4,
   "id": "61a1bb11-aca1-4c38-bbae-cd8c5ca16275",
   "metadata": {},
   "outputs": [],
   "source": [
    "import numpy as np\n",
    "import pandas as pd"
   ]
  },
  {
   "cell_type": "markdown",
   "id": "be57dc5b-83a0-4e44-ab79-0e6f3d2b6512",
   "metadata": {},
   "source": [
    "### 1. What is the shape of our dataframe and explain what the shape means?"
   ]
  },
  {
   "cell_type": "code",
   "execution_count": 6,
   "id": "e808a0e1-5e3a-4be1-81e8-293f3164faf8",
   "metadata": {},
   "outputs": [
    {
     "data": {
      "text/plain": [
       "(50017, 14)"
      ]
     },
     "execution_count": 6,
     "metadata": {},
     "output_type": "execute_result"
    }
   ],
   "source": [
    "df = pd.read_csv('customer_bookings.csv') # reading the csv file from the directory \n",
    "df.shape #Displaying the shape"
   ]
  },
  {
   "cell_type": "markdown",
   "id": "fa291ecf-9544-4996-a903-8b861470ea2e",
   "metadata": {},
   "source": [
    "#### The shape of our DataFrame is (50017, 14).\n",
    "\n",
    "###### This shape means the following:\n",
    "\n",
    "- 50017 represents the number of rows in the DataFrame. Each row corresponds to a single entry, record, or example within our dataset. A row is a distinct instance we are analyzing.\n",
    "\n",
    "- 14 represents the number of columns in the DataFrame. Each column corresponds to a different feature, attribute, or variable that describes each of the 50,017 entries. These are the characteristics we have information about for each example."
   ]
  },
  {
   "cell_type": "markdown",
   "id": "ec7d6144-f293-4c0e-bbda-858373675ff5",
   "metadata": {},
   "source": [
    "### 2. How many columns have null values and how many duplicate records are in the dataset?"
   ]
  },
  {
   "cell_type": "code",
   "execution_count": 9,
   "id": "05edeb28-302c-44d4-8310-717e0fa30199",
   "metadata": {},
   "outputs": [
    {
     "name": "stdout",
     "output_type": "stream",
     "text": [
      "The Number of columns with null values are: 12\n",
      "\n",
      "Number of null values per column:\n",
      "sales_channel            10\n",
      "trip_type                 5\n",
      "purchase_lead            25\n",
      "length_of_stay            7\n",
      "flight_hour              15\n",
      "flight_day                4\n",
      "route                     3\n",
      "booking_origin           11\n",
      "wants_extra_baggage       4\n",
      "wants_preferred_seat      5\n",
      "wants_in_flight_meals     5\n",
      "flight_duration          13\n",
      "dtype: int64\n"
     ]
    }
   ],
   "source": [
    "# Checking for null values in each column and summing them\n",
    "null_counts_per_column = df.isnull().sum()\n",
    "\n",
    "# Filtering for columns that have at least one null value\n",
    "columns_with_nulls = null_counts_per_column[null_counts_per_column > 0]\n",
    "\n",
    "# Getting the number of columns with null values\n",
    "num_columns_with_nulls = columns_with_nulls.shape[0]\n",
    "\n",
    "print(f\"The Number of columns with null values are: {num_columns_with_nulls}\") # printing the number of columns with null values\n",
    "print(\"\\nNumber of null values per column:\") \n",
    "print(columns_with_nulls) # printing the columns with null values and the number of nulls"
   ]
  },
  {
   "cell_type": "code",
   "execution_count": 10,
   "id": "93eb0583-ea2d-4e8f-a435-edf9f7c7ec41",
   "metadata": {},
   "outputs": [
    {
     "name": "stdout",
     "output_type": "stream",
     "text": [
      "The Number of duplicate records in the dataset: 735\n"
     ]
    }
   ],
   "source": [
    "# Identifying duplicate rows\n",
    "duplicate_rows = df.duplicated()\n",
    "\n",
    "# Counting the number of duplicate rows\n",
    "num_duplicate_rows = duplicate_rows.sum()\n",
    "\n",
    "# printing the number of duplicates on the screen\n",
    "print(f\"The Number of duplicate records in the dataset: {num_duplicate_rows}\")"
   ]
  },
  {
   "cell_type": "markdown",
   "id": "2d4e57f4-7778-4fc6-a182-16189823b139",
   "metadata": {},
   "source": [
    "### 3. Remove duplicates, rows with null values and the purchase lead and booking origin columns, what is the new shape of the dataframe?"
   ]
  },
  {
   "cell_type": "code",
   "execution_count": 12,
   "id": "b17b8740-979e-459b-8a27-cdb4cfef8843",
   "metadata": {},
   "outputs": [
    {
     "name": "stdout",
     "output_type": "stream",
     "text": [
      "Original shape of the DataFrame: (50017, 14)\n",
      "Shape after removing duplicates: (49282, 14)\n",
      "Shape after removing rows with null values: (49207, 14)\n",
      "Shape after removing 'purchase_lead' and 'booking_origin' columns: (49207, 12)\n"
     ]
    }
   ],
   "source": [
    "# Removing duplicate rows\n",
    "df_no_duplicates = df.drop_duplicates()\n",
    "\n",
    "# Removing rows with any null values\n",
    "df_cleaned = df_no_duplicates.dropna()\n",
    "\n",
    "# Removing the 'purchase_lead' and 'booking_origin' columns\n",
    "columns_to_drop = ['purchase_lead', 'booking_origin']\n",
    "df_final = df_cleaned.drop(columns=columns_to_drop, axis = 1)\n",
    "\n",
    "# Get the new shape of the DataFrame\n",
    "new_shape = df_final.shape\n",
    "\n",
    "print(f\"Original shape of the DataFrame: {df.shape}\")\n",
    "print(f\"Shape after removing duplicates: {df_no_duplicates.shape}\")\n",
    "print(f\"Shape after removing rows with null values: {df_cleaned.shape}\")\n",
    "print(f\"Shape after removing 'purchase_lead' and 'booking_origin' columns: {new_shape}\")"
   ]
  },
  {
   "cell_type": "markdown",
   "id": "2588d6da-fcda-419d-8baa-86676eae786d",
   "metadata": {},
   "source": [
    "### 4. What are the different datatypes we have in the dataset?"
   ]
  },
  {
   "cell_type": "code",
   "execution_count": 30,
   "id": "f20c0324-ec56-4a1c-8d60-46176452fcea",
   "metadata": {},
   "outputs": [
    {
     "name": "stdout",
     "output_type": "stream",
     "text": [
      "The different data types in the dataset are:\n",
      "int64\n",
      "object\n",
      "float64\n"
     ]
    }
   ],
   "source": [
    "# Getting the data type of each column\n",
    "column_dtypes = df.dtypes\n",
    "\n",
    "# Getting the unique data types present in the Series of column data types\n",
    "unique_dtypes = column_dtypes.unique()\n",
    "\n",
    "print(\"The different data types in the dataset are:\") \n",
    "for dtype in unique_dtypes:\n",
    "    print(dtype) # printing the different datatypes"
   ]
  },
  {
   "cell_type": "markdown",
   "id": "eb4767e1-fcbb-471c-a630-ae27d2e5f126",
   "metadata": {},
   "source": [
    "### 5. What are the different trip types available to customers and which one is mostly used?"
   ]
  },
  {
   "cell_type": "code",
   "execution_count": 16,
   "id": "e0a637c8-8d5d-47f3-9c0a-7165b81fa3a4",
   "metadata": {},
   "outputs": [
    {
     "name": "stdout",
     "output_type": "stream",
     "text": [
      "The different trip types available are:\n",
      "['RoundTrip' 'CircleTrip' 'OneWay' nan]\n",
      "\n",
      "Usage count for each trip type are:\n",
      "trip_type\n",
      "RoundTrip     49509\n",
      "OneWay          387\n",
      "CircleTrip      116\n",
      "Name: count, dtype: int64\n",
      "\n",
      "The most frequently used trip type is: 'RoundTrip' with 49509 bookings.\n"
     ]
    }
   ],
   "source": [
    "# Getting the unique trip types\n",
    "unique_trip_types = df['trip_type'].unique()\n",
    "\n",
    "# Getting the count of each trip type\n",
    "trip_type_counts = df['trip_type'].value_counts()\n",
    "\n",
    "# Finding the most frequently used trip type\n",
    "most_used_trip_type = trip_type_counts.idxmax()\n",
    "most_used_trip_count = trip_type_counts.max()\n",
    "\n",
    "print(\"The different trip types available are:\")\n",
    "print(unique_trip_types)\n",
    "\n",
    "print(\"\\nUsage count for each trip type are:\")\n",
    "print(trip_type_counts)\n",
    "\n",
    "print(f\"\\nThe most frequently used trip type is: '{most_used_trip_type}' with {most_used_trip_count} bookings.\")"
   ]
  },
  {
   "cell_type": "markdown",
   "id": "b4e987b0-44d8-4dcc-ae6f-f099553b714e",
   "metadata": {},
   "source": [
    "### 6. What is the most used sales channel for booking by customers?"
   ]
  },
  {
   "cell_type": "code",
   "execution_count": 18,
   "id": "15ad2102-80df-46d0-847c-e06c72ea8588",
   "metadata": {},
   "outputs": [
    {
     "name": "stdout",
     "output_type": "stream",
     "text": [
      "Usage count for each sales channel:\n",
      "sales_channel\n",
      "Internet    44386\n",
      "Mobile       5621\n",
      "Name: count, dtype: int64\n",
      "\n",
      "The most frequently used sales channel for booking is: 'Internet' with 44386 bookings.\n"
     ]
    }
   ],
   "source": [
    "# Getting the count of each sales channel\n",
    "sales_channel_counts = df['sales_channel'].value_counts()\n",
    "\n",
    "# Finding the most frequently used sales channel\n",
    "most_used_sales_channel = sales_channel_counts.idxmax()\n",
    "most_used_sales_channel_count = sales_channel_counts.max()\n",
    "\n",
    "print(\"Usage count for each sales channel:\")\n",
    "print(sales_channel_counts)\n",
    "\n",
    "print(f\"\\nThe most frequently used sales channel for booking is: '{most_used_sales_channel}' with {most_used_sales_channel_count} bookings.\")"
   ]
  },
  {
   "cell_type": "markdown",
   "id": "c2bf841e-af62-4538-a0ae-1369669427ca",
   "metadata": {},
   "source": [
    "### 7. Which day had the highest total number of flights?"
   ]
  },
  {
   "cell_type": "code",
   "execution_count": 20,
   "id": "332276d4-8ce6-4fb5-b3e9-d4e723297e6e",
   "metadata": {},
   "outputs": [
    {
     "name": "stdout",
     "output_type": "stream",
     "text": [
      "Number of flights per day:\n",
      "flight_day\n",
      "Mon    8105\n",
      "Tue    7676\n",
      "Wed    7674\n",
      "Thu    7426\n",
      "Fri    6764\n",
      "Sun    6556\n",
      "Sat    5812\n",
      "Name: count, dtype: int64\n",
      "\n",
      "The day with the highest total number of flights was: 'Day Mon' with 8105 flights.\n"
     ]
    }
   ],
   "source": [
    "# Getting the count of flights for each day\n",
    "flight_day_counts = df['flight_day'].value_counts()\n",
    "\n",
    "# Finding the day with the highest number of flights\n",
    "day_with_highest_flights = flight_day_counts.idxmax()\n",
    "highest_flight_count = flight_day_counts.max()\n",
    "\n",
    "# Mapping numerical flight_day to day names (assuming a standard mapping)\n",
    "day_mapping = {\n",
    "    1: 'Monday',\n",
    "    2: 'Tuesday',\n",
    "    3: 'Wednesday',\n",
    "    4: 'Thursday',\n",
    "    5: 'Friday',\n",
    "    6: 'Saturday',\n",
    "    7: 'Sunday'\n",
    "}\n",
    "\n",
    "# Getting the day name corresponding to the numerical value\n",
    "day_name_highest_flights = day_mapping.get(day_with_highest_flights, f'Day {day_with_highest_flights}')\n",
    "\n",
    "print(\"Number of flights per day:\")\n",
    "print(flight_day_counts)\n",
    "\n",
    "print(f\"\\nThe day with the highest total number of flights was: '{day_name_highest_flights}' with {highest_flight_count} flights.\")"
   ]
  }
 ],
 "metadata": {
  "kernelspec": {
   "display_name": "Python 3 (ipykernel)",
   "language": "python",
   "name": "python3"
  },
  "language_info": {
   "codemirror_mode": {
    "name": "ipython",
    "version": 3
   },
   "file_extension": ".py",
   "mimetype": "text/x-python",
   "name": "python",
   "nbconvert_exporter": "python",
   "pygments_lexer": "ipython3",
   "version": "3.12.7"
  }
 },
 "nbformat": 4,
 "nbformat_minor": 5
}
