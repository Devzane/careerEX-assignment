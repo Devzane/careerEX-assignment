{
 "cells": [
  {
   "cell_type": "markdown",
   "id": "3c9aa3f6-10aa-4c51-b141-76df9c406517",
   "metadata": {},
   "source": [
    "## **Assignment - Week 3**\n",
    "\n",
    "**Instructions:** \n",
    "- Answer each question on a separate cell, either in a markdown or code cell depending on the question.\n",
    "- Use comments in your code"
   ]
  },
  {
   "cell_type": "code",
   "execution_count": 2,
   "id": "453c56d6-ad17-4a09-93bb-b2fc6335369f",
   "metadata": {},
   "outputs": [],
   "source": [
    "import numpy as np #importing the module to perform scientific computation"
   ]
  },
  {
   "cell_type": "markdown",
   "id": "6887e37f-2cfe-4dae-b301-7a82daff602f",
   "metadata": {},
   "source": [
    "### **Question 1**\n",
    "\n",
    " Demonstrate how to create a 1-dimensional, 2-dimensional, and 3-dimensional numpy arrays using `np.array`. Use any suitable data for the arrays and display each. The 1 dimensional, 2 dimensional and 3 dimensional arrays you created should have shapes of ```(7,), (4, 4), and (3, 2, 3)``` respectively. Print out the shapes of each array after you have created them."
   ]
  },
  {
   "cell_type": "code",
   "execution_count": 4,
   "id": "0f14d0ef-bc7e-4dae-8a86-0d0587fbbf29",
   "metadata": {},
   "outputs": [
    {
     "name": "stdout",
     "output_type": "stream",
     "text": [
      "(7,)\n",
      "(4, 4)\n",
      "(3, 2, 3)\n"
     ]
    }
   ],
   "source": [
    "\n",
    "array_1d = np.array([3, 2, 5, 8, 2, 1, 5]) #creating one dimensional array\n",
    "array_2d = np.array([[1,6,8,3],\n",
    "                    [3, 5, 6, 2],\n",
    "                     [4, 5, 2, 9],\n",
    "                     [3, 8, 9, 0]\n",
    "                    ]) # creating two dimensional array\n",
    "\n",
    "array_3d = np.array(\n",
    "    [[[3, 3, 6],\n",
    "     [3, 5, 8]], # first block of the 3 dimensional array\n",
    "      \n",
    "      \n",
    "        \n",
    "        [[4, 6, 5],\n",
    "        [3, 8, 2]], # second block of the 3 dimensional array\n",
    "         \n",
    "        [[3, 6, 8],\n",
    "         [4, 3, 2] # third block of the 3 dimensional array \n",
    "        ]]\n",
    ")\n",
    "\n",
    "print(array_1d.shape) # printing the 1 dimensional array\n",
    "print(array_2d.shape) # printing the 2 dimensional array \n",
    "print(array_3d.shape) # printing the 3 dimensional array"
   ]
  },
  {
   "cell_type": "markdown",
   "id": "82ca1665-443c-4d92-83e2-83a56ec905d6",
   "metadata": {},
   "source": [
    "### **Question 2**\n",
    "\n",
    "**2a.** Write a Python code to create two arrays using `np.zeros` and `np.ones` with a shape of (4, 5). Print both arrays.\\\n",
    "**2b.** Using the `np.arange` function, create an array from `10 - 36` \\\n",
    "**2c.** Generate a numpy array with `25` linearly spaced values ranging from `20 to 50` using `np.linspace`. Print the array."
   ]
  },
  {
   "cell_type": "code",
   "execution_count": 6,
   "id": "59ae599a-11b5-4298-a581-9862221ce576",
   "metadata": {},
   "outputs": [
    {
     "name": "stdout",
     "output_type": "stream",
     "text": [
      "Arrays of zeros\n",
      "[[0. 0. 0. 0. 0.]\n",
      " [0. 0. 0. 0. 0.]\n",
      " [0. 0. 0. 0. 0.]\n",
      " [0. 0. 0. 0. 0.]]\n",
      "Arrays of ones\n",
      "[[1. 1. 1. 1. 1.]\n",
      " [1. 1. 1. 1. 1.]\n",
      " [1. 1. 1. 1. 1.]\n",
      " [1. 1. 1. 1. 1.]]\n"
     ]
    }
   ],
   "source": [
    "# Question 2a\n",
    "array_zeros = np.zeros((4, 5)) # creating arrays with shape 4 x 5 of zeros\n",
    "array_ones = np.ones((4, 5))  # creating arrays with shape 4 x 5 of ones\n",
    "print('Arrays of zeros')\n",
    "print(array_zeros) # printing the array of zeros\n",
    "print('Arrays of ones')\n",
    "print(array_ones) # printing the arrays of ones"
   ]
  },
  {
   "cell_type": "code",
   "execution_count": 7,
   "id": "2152eb3b-52c0-42fc-a889-4905c0866a32",
   "metadata": {},
   "outputs": [
    {
     "name": "stdout",
     "output_type": "stream",
     "text": [
      "Arrays of numbers from 10 - 37\n",
      "[10 11 12 13 14 15 16 17 18 19 20 21 22 23 24 25 26 27 28 29 30 31 32 33\n",
      " 34 35 36]\n"
     ]
    }
   ],
   "source": [
    "# Questiond 2b\n",
    "print(\"Arrays of numbers from 10 - 37\")\n",
    "array_arrange = np.arange(10, 37) # creation of arrays between 10 to 36 using the arrange numpy function\n",
    "print(array_arrange) # printing the array on the terminal "
   ]
  },
  {
   "cell_type": "code",
   "execution_count": 8,
   "id": "ddded955-e36d-4794-93d1-1a9b1bcd13de",
   "metadata": {},
   "outputs": [
    {
     "name": "stdout",
     "output_type": "stream",
     "text": [
      "[20.   21.25 22.5  23.75 25.   26.25 27.5  28.75 30.   31.25 32.5  33.75\n",
      " 35.   36.25 37.5  38.75 40.   41.25 42.5  43.75 45.   46.25 47.5  48.75\n",
      " 50.  ]\n"
     ]
    }
   ],
   "source": [
    "linear_array = np.linspace(20, 50, 25) # creating linearly spaced array\n",
    "\n",
    "print(linear_array) # Print the array\n"
   ]
  },
  {
   "cell_type": "markdown",
   "id": "3826afb2-38f6-4ffc-89b6-c9ee20202637",
   "metadata": {},
   "source": [
    "### **Question 3**\n",
    "\n",
    "Consider the numpy array below. Write a Python code to extract the sub-array containing the third to fifth elements.\n",
    "```python\n",
    "arr = np.array([23, 54, 32, 33, 56, 78, 77, 45, 33])\n",
    "```"
   ]
  },
  {
   "cell_type": "code",
   "execution_count": 10,
   "id": "85075273-f83e-4d58-8e37-a8d0d8653de2",
   "metadata": {
    "scrolled": true
   },
   "outputs": [
    {
     "name": "stdout",
     "output_type": "stream",
     "text": [
      "This is the sub array: [32 33 56]\n"
     ]
    }
   ],
   "source": [
    "arr = np.array([23, 54, 32, 33, 56, 78, 77, 45, 33])\n",
    "sub_arr = arr[2: 5] # slicing the array\n",
    "print(f'This is the sub array: {sub_arr}') # printing the sliced array"
   ]
  },
  {
   "cell_type": "markdown",
   "id": "a6dc52e7-4df0-4964-8132-b0ae4499e10f",
   "metadata": {},
   "source": [
    "### **Question 4**\n",
    "\n",
    "Given the 2-dimensional numpy array below, demonstrate how to slice and obtain the third row and first and second column.\n",
    "\n",
    "```python\n",
    "arr_2d = np.array([[1, 2, 3], \n",
    "                  [4, 5, 6], \n",
    "                  [7, 8, 9],\n",
    "                  [4, 5, 3]])\n",
    "```"
   ]
  },
  {
   "cell_type": "code",
   "execution_count": 12,
   "id": "7feb57eb-8087-4fde-8c24-34ebb963ac3c",
   "metadata": {},
   "outputs": [
    {
     "name": "stdout",
     "output_type": "stream",
     "text": [
      "[[7 8]]\n"
     ]
    }
   ],
   "source": [
    "arr_2d = np.array([[1, 2, 3], \n",
    "                  [4, 5, 6], \n",
    "                  [7, 8, 9],\n",
    "                  [4, 5, 3]])\n",
    "\n",
    "slice_arr = arr_2d[2:-1, 0:2] #  slice and obtain the third row and first and second column.\n",
    "print(slice_arr) #printing the sliced array"
   ]
  },
  {
   "cell_type": "markdown",
   "id": "182c701a-d189-4b4b-a79a-a4e7aaecbc53",
   "metadata": {
    "jp-MarkdownHeadingCollapsed": true
   },
   "source": [
    "### **Question 5**\n",
    "\n",
    "Given the 3d array below, answer the following questions:\\\n",
    "**5a.** What is the shape of the array and how many layers or blocks does the array have?\\\n",
    "**5b.** Slice out the second and last rows from the third block using array slicing.\n",
    "```python\n",
    "array_3d = np.array([\n",
    "    [[1, 2, 3], \n",
    "     [4, 5, 6], \n",
    "     [7, 8, 9], \n",
    "     [2, 3, 3]],\n",
    "    \n",
    "    [[13, 14, 15], \n",
    "     [16, 17, 18], \n",
    "     [19, 20, 21], \n",
    "     [22, 23, 24]],\n",
    "    \n",
    "    [[25, 26, 27], \n",
    "     [28, 29, 30], \n",
    "     [31, 32, 33], \n",
    "     [34, 35, 36]]])\n",
    "```"
   ]
  },
  {
   "cell_type": "markdown",
   "id": "26672c9c-3c56-4d4b-99af-a77994a92ee3",
   "metadata": {},
   "source": [
    "### The shape of the array and the numbers of the blocks layer in the array\n",
    "\n",
    "- The shape of the array is (3, 4, 3)\n",
    "- The blocks in the array is 3 blocks"
   ]
  },
  {
   "cell_type": "code",
   "execution_count": 15,
   "id": "65a695f8-6ce9-442a-b538-526d16191ab2",
   "metadata": {},
   "outputs": [
    {
     "name": "stdout",
     "output_type": "stream",
     "text": [
      "[[28 29 30]\n",
      " [34 35 36]]\n"
     ]
    }
   ],
   "source": [
    "# question 5b\n",
    "array_3d = np.array([\n",
    "    [[1, 2, 3], \n",
    "     [4, 5, 6], \n",
    "     [7, 8, 9], \n",
    "     [2, 3, 3]],\n",
    "    \n",
    "    [[13, 14, 15], \n",
    "     [16, 17, 18], \n",
    "     [19, 20, 21], \n",
    "     [22, 23, 24]],\n",
    "    \n",
    "    [[25, 26, 27], \n",
    "     [28, 29, 30], \n",
    "     [31, 32, 33], \n",
    "     [34, 35, 36]]])\n",
    "\n",
    "\n",
    "block_slice = array_3d[[2], [1,-1]] # Slicing out the second and last rows from the third block using array slicing.\n",
    "print(block_slice) # printing the sliced block "
   ]
  },
  {
   "cell_type": "code",
   "execution_count": null,
   "id": "a4319848-7672-466a-94e8-1be7e5e8b086",
   "metadata": {},
   "outputs": [],
   "source": []
  }
 ],
 "metadata": {
  "kernelspec": {
   "display_name": "Python 3 (ipykernel)",
   "language": "python",
   "name": "python3"
  },
  "language_info": {
   "codemirror_mode": {
    "name": "ipython",
    "version": 3
   },
   "file_extension": ".py",
   "mimetype": "text/x-python",
   "name": "python",
   "nbconvert_exporter": "python",
   "pygments_lexer": "ipython3",
   "version": "3.12.7"
  }
 },
 "nbformat": 4,
 "nbformat_minor": 5
}
